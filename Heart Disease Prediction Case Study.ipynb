{
 "cells": [
  {
   "cell_type": "markdown",
   "id": "aeb2ad59",
   "metadata": {},
   "source": [
    "# CASE STUDY:: HEART DISEASE PREDICTION"
   ]
  },
  {
   "cell_type": "markdown",
   "id": "0e36fd85",
   "metadata": {},
   "source": [
    "### Background\n",
    "\n",
    "Peterside Hospital is a private hospital with a lot of patients from both genders and of all ages. It is located in Nigeria and has a major challenge dimacating features of heart problems and the possible cause of it. Heart disease is a major health issue that can occur in people of any age. Although Peterside hospital is ranked high, it has to update its healthcheck technology if it must remian in the market with average or above average competitive power. "
   ]
  },
  {
   "cell_type": "markdown",
   "id": "8c8f6340",
   "metadata": {},
   "source": [
    "### Objective\n",
    "\n",
    "The objective of this case study is to help Peterside hospital, a private hospital, develop a machine learning model that can accurately predict the presence of heart problems in patients based on its features, such chest_pain_type, resting_blood_pressure, cholesterol, fasting_blood_sugar etc."
   ]
  },
  {
   "cell_type": "markdown",
   "id": "64a25f75",
   "metadata": {},
   "source": [
    "### Data\n",
    "\n",
    "The data used in this case study is a publicly available dataset from Kaggle, which contains information on patients registered in a hospital, including their health check-up readings such as, cholesterol, heart pressure, blood sugar and others. The dataset contains over 303 records and 14 variables/features."
   ]
  },
  {
   "cell_type": "markdown",
   "id": "671569bd",
   "metadata": {},
   "source": [
    "### Methodology\n",
    "\n",
    "The methodology used in this case study involves the following steps:\n",
    "\n",
    "Data cleaning and preprocessing: The first step is to clean and preprocess the data, including handling missing values, removing outliers, and transforming variables as necessary.\n",
    "\n",
    "Exploratory data analysis: Next, we will perform exploratory data analysis to gain insights into the data, such as identifying trends and patterns, and identifying correlations between variables.\n",
    "\n",
    "Feature engineering: Based on the insights gained from the exploratory data analysis, we will perform feature engineering to select the most relevant features for predicting heart disease and transform them as necessary.\n",
    "\n",
    "Model selection and training: We will then select a suitable machine learning algorithm for predicting heart diseases, such as logistic regression, a decision tree, and other model will be trained on the preprocessed data.\n",
    "\n",
    "Model evaluation and fine-tuning: We will evaluate the performance of each model using various metrics, such as accuracy, precision, recall score and others.\n",
    "\n",
    "The best model will be selected and recmmended for use."
   ]
  },
  {
   "cell_type": "code",
   "execution_count": 39,
   "id": "94064afd",
   "metadata": {},
   "outputs": [],
   "source": [
    "#For data analysis\n",
    "import pandas as pd\n",
    "import numpy as np\n",
    "\n",
    "#For visualisatio\n",
    "import matplotlib.pyplot as plt\n",
    "import seaborn as sns\n",
    "\n",
    "#For Data preprocessing\n",
    "from sklearn.model_selection import train_test_split\n",
    "from sklearn.preprocessing import MinMaxScaler #To normalise data bet 0 and 1\n",
    "\n",
    "#Classifier libraries\n",
    "from sklearn.linear_model import SGDClassifier\n",
    "from sklearn.neighbors import KNeighborsClassifier\n",
    "from sklearn.ensemble import RandomForestClassifier\n",
    "from sklearn.linear_model import LogisticRegression\n",
    "\n",
    "#!pip instal xgboost\n",
    "from sklearn.svm import LinearSVC, SVC\n",
    "from sklearn.naive_bayes import GaussianNB\n",
    "from sklearn.svm import SVC\n",
    "from sklearn.tree import DecisionTreeClassifier\n",
    "import xgboost as xgb\n",
    "from xgboost import XGBClassifier\n",
    "from sklearn.ensemble import GradientBoostingClassifier\n",
    "\n",
    "#Evaluation Metrics\n",
    "from sklearn.metrics import accuracy_score, precision_score, recall_score, f1_score, roc_auc_score\n",
    "from sklearn.metrics import confusion_matrix\n",
    "\n",
    "########\n",
    "import missingno as msno\n",
    "from collections import Counter\n",
    "import warnings\n",
    "warnings.filterwarnings('ignore')"
   ]
  },
  {
   "cell_type": "markdown",
   "id": "74bc5264",
   "metadata": {},
   "source": [
    "# DATA LOADING"
   ]
  },
  {
   "cell_type": "code",
   "execution_count": 3,
   "id": "05359423",
   "metadata": {},
   "outputs": [
    {
     "data": {
      "text/html": [
       "<div>\n",
       "<style scoped>\n",
       "    .dataframe tbody tr th:only-of-type {\n",
       "        vertical-align: middle;\n",
       "    }\n",
       "\n",
       "    .dataframe tbody tr th {\n",
       "        vertical-align: top;\n",
       "    }\n",
       "\n",
       "    .dataframe thead th {\n",
       "        text-align: right;\n",
       "    }\n",
       "</style>\n",
       "<table border=\"1\" class=\"dataframe\">\n",
       "  <thead>\n",
       "    <tr style=\"text-align: right;\">\n",
       "      <th></th>\n",
       "      <th>age</th>\n",
       "      <th>sex</th>\n",
       "      <th>cp</th>\n",
       "      <th>trestbps</th>\n",
       "      <th>chol</th>\n",
       "      <th>fbs</th>\n",
       "      <th>restecg</th>\n",
       "      <th>thalach</th>\n",
       "      <th>exang</th>\n",
       "      <th>oldpeak</th>\n",
       "      <th>slope</th>\n",
       "      <th>ca</th>\n",
       "      <th>thal</th>\n",
       "      <th>target</th>\n",
       "    </tr>\n",
       "  </thead>\n",
       "  <tbody>\n",
       "    <tr>\n",
       "      <th>0</th>\n",
       "      <td>63</td>\n",
       "      <td>1</td>\n",
       "      <td>3</td>\n",
       "      <td>145</td>\n",
       "      <td>233</td>\n",
       "      <td>1</td>\n",
       "      <td>0</td>\n",
       "      <td>150</td>\n",
       "      <td>0</td>\n",
       "      <td>2.3</td>\n",
       "      <td>0</td>\n",
       "      <td>0</td>\n",
       "      <td>1</td>\n",
       "      <td>1</td>\n",
       "    </tr>\n",
       "    <tr>\n",
       "      <th>1</th>\n",
       "      <td>37</td>\n",
       "      <td>1</td>\n",
       "      <td>2</td>\n",
       "      <td>130</td>\n",
       "      <td>250</td>\n",
       "      <td>0</td>\n",
       "      <td>1</td>\n",
       "      <td>187</td>\n",
       "      <td>0</td>\n",
       "      <td>3.5</td>\n",
       "      <td>0</td>\n",
       "      <td>0</td>\n",
       "      <td>2</td>\n",
       "      <td>1</td>\n",
       "    </tr>\n",
       "    <tr>\n",
       "      <th>2</th>\n",
       "      <td>41</td>\n",
       "      <td>0</td>\n",
       "      <td>1</td>\n",
       "      <td>130</td>\n",
       "      <td>204</td>\n",
       "      <td>0</td>\n",
       "      <td>0</td>\n",
       "      <td>172</td>\n",
       "      <td>0</td>\n",
       "      <td>1.4</td>\n",
       "      <td>2</td>\n",
       "      <td>0</td>\n",
       "      <td>2</td>\n",
       "      <td>1</td>\n",
       "    </tr>\n",
       "    <tr>\n",
       "      <th>3</th>\n",
       "      <td>56</td>\n",
       "      <td>1</td>\n",
       "      <td>1</td>\n",
       "      <td>120</td>\n",
       "      <td>236</td>\n",
       "      <td>0</td>\n",
       "      <td>1</td>\n",
       "      <td>178</td>\n",
       "      <td>0</td>\n",
       "      <td>0.8</td>\n",
       "      <td>2</td>\n",
       "      <td>0</td>\n",
       "      <td>2</td>\n",
       "      <td>1</td>\n",
       "    </tr>\n",
       "    <tr>\n",
       "      <th>4</th>\n",
       "      <td>57</td>\n",
       "      <td>0</td>\n",
       "      <td>0</td>\n",
       "      <td>120</td>\n",
       "      <td>354</td>\n",
       "      <td>0</td>\n",
       "      <td>1</td>\n",
       "      <td>163</td>\n",
       "      <td>1</td>\n",
       "      <td>0.6</td>\n",
       "      <td>2</td>\n",
       "      <td>0</td>\n",
       "      <td>2</td>\n",
       "      <td>1</td>\n",
       "    </tr>\n",
       "  </tbody>\n",
       "</table>\n",
       "</div>"
      ],
      "text/plain": [
       "   age  sex  cp  trestbps  chol  fbs  restecg  thalach  exang  oldpeak  slope  \\\n",
       "0   63    1   3       145   233    1        0      150      0      2.3      0   \n",
       "1   37    1   2       130   250    0        1      187      0      3.5      0   \n",
       "2   41    0   1       130   204    0        0      172      0      1.4      2   \n",
       "3   56    1   1       120   236    0        1      178      0      0.8      2   \n",
       "4   57    0   0       120   354    0        1      163      1      0.6      2   \n",
       "\n",
       "   ca  thal  target  \n",
       "0   0     1       1  \n",
       "1   0     2       1  \n",
       "2   0     2       1  \n",
       "3   0     2       1  \n",
       "4   0     2       1  "
      ]
     },
     "execution_count": 3,
     "metadata": {},
     "output_type": "execute_result"
    }
   ],
   "source": [
    "df = pd.read_csv(r'C:\\Users\\oguad\\Desktop\\10ANALYTICS DATA SCIENCE\\VIDEOS\\Supervised ML\\heart.csv')\n",
    "df.head()"
   ]
  },
  {
   "cell_type": "markdown",
   "id": "8c0ebc6a",
   "metadata": {},
   "source": [
    "# Features in the dataset and meaning:\n",
    "\n",
    "The heart CSV dataset contains 303 records and 14 columns, including the target variable. The features include:\n",
    "\n",
    "- age (age in years) \n",
    "- sex (1=male, 0=female) \n",
    "- cp (chest pain type= 1: typical agina; 2: atypical agina; 3: non-agina pain; 4: asymptomatic) \n",
    "- trestbps (resting blood pressure; in mm Hg admission to the hospital)\n",
    "- chol (serum cholesterol in mg/dl) \n",
    "- fbs (fasting blood sugar>120mg/dl)(1 = true; 0 = false) \n",
    "- resteccg (resting electrocardiographic results)\n",
    "- Thalach (maximum heart rate achieved) \n",
    "- exang (exercise-induced angina; 1 = yes; 0 = no) )\n",
    "- oldpeak (ST depression induced by exercise relative to rest) \n",
    "- slope (the slope of the peak exercise ST segment)\n",
    "- ca (number of major vessels (0-3) colored by flourosopy)\n",
    "- thal (thalassemia; 3=normal; 6=fixed defect; 7=reversable defect)\n",
    "- target (have disease or not (1=yes, 0=no)"
   ]
  },
  {
   "cell_type": "code",
   "execution_count": 4,
   "id": "942c3420",
   "metadata": {},
   "outputs": [
    {
     "data": {
      "text/html": [
       "<div>\n",
       "<style scoped>\n",
       "    .dataframe tbody tr th:only-of-type {\n",
       "        vertical-align: middle;\n",
       "    }\n",
       "\n",
       "    .dataframe tbody tr th {\n",
       "        vertical-align: top;\n",
       "    }\n",
       "\n",
       "    .dataframe thead th {\n",
       "        text-align: right;\n",
       "    }\n",
       "</style>\n",
       "<table border=\"1\" class=\"dataframe\">\n",
       "  <thead>\n",
       "    <tr style=\"text-align: right;\">\n",
       "      <th></th>\n",
       "      <th>age</th>\n",
       "      <th>sex</th>\n",
       "      <th>chest_pain_type</th>\n",
       "      <th>resting_blood_pressure</th>\n",
       "      <th>cholesterol</th>\n",
       "      <th>fasting_blood_sugar</th>\n",
       "      <th>rest_ecg</th>\n",
       "      <th>max_heart_rate_achieved</th>\n",
       "      <th>exercise_induced_angina</th>\n",
       "      <th>st_depression</th>\n",
       "      <th>st_slope</th>\n",
       "      <th>nu_major_vessels</th>\n",
       "      <th>thalassemia</th>\n",
       "      <th>target</th>\n",
       "    </tr>\n",
       "  </thead>\n",
       "  <tbody>\n",
       "    <tr>\n",
       "      <th>0</th>\n",
       "      <td>63</td>\n",
       "      <td>1</td>\n",
       "      <td>3</td>\n",
       "      <td>145</td>\n",
       "      <td>233</td>\n",
       "      <td>1</td>\n",
       "      <td>0</td>\n",
       "      <td>150</td>\n",
       "      <td>0</td>\n",
       "      <td>2.3</td>\n",
       "      <td>0</td>\n",
       "      <td>0</td>\n",
       "      <td>1</td>\n",
       "      <td>1</td>\n",
       "    </tr>\n",
       "    <tr>\n",
       "      <th>1</th>\n",
       "      <td>37</td>\n",
       "      <td>1</td>\n",
       "      <td>2</td>\n",
       "      <td>130</td>\n",
       "      <td>250</td>\n",
       "      <td>0</td>\n",
       "      <td>1</td>\n",
       "      <td>187</td>\n",
       "      <td>0</td>\n",
       "      <td>3.5</td>\n",
       "      <td>0</td>\n",
       "      <td>0</td>\n",
       "      <td>2</td>\n",
       "      <td>1</td>\n",
       "    </tr>\n",
       "    <tr>\n",
       "      <th>2</th>\n",
       "      <td>41</td>\n",
       "      <td>0</td>\n",
       "      <td>1</td>\n",
       "      <td>130</td>\n",
       "      <td>204</td>\n",
       "      <td>0</td>\n",
       "      <td>0</td>\n",
       "      <td>172</td>\n",
       "      <td>0</td>\n",
       "      <td>1.4</td>\n",
       "      <td>2</td>\n",
       "      <td>0</td>\n",
       "      <td>2</td>\n",
       "      <td>1</td>\n",
       "    </tr>\n",
       "    <tr>\n",
       "      <th>3</th>\n",
       "      <td>56</td>\n",
       "      <td>1</td>\n",
       "      <td>1</td>\n",
       "      <td>120</td>\n",
       "      <td>236</td>\n",
       "      <td>0</td>\n",
       "      <td>1</td>\n",
       "      <td>178</td>\n",
       "      <td>0</td>\n",
       "      <td>0.8</td>\n",
       "      <td>2</td>\n",
       "      <td>0</td>\n",
       "      <td>2</td>\n",
       "      <td>1</td>\n",
       "    </tr>\n",
       "    <tr>\n",
       "      <th>4</th>\n",
       "      <td>57</td>\n",
       "      <td>0</td>\n",
       "      <td>0</td>\n",
       "      <td>120</td>\n",
       "      <td>354</td>\n",
       "      <td>0</td>\n",
       "      <td>1</td>\n",
       "      <td>163</td>\n",
       "      <td>1</td>\n",
       "      <td>0.6</td>\n",
       "      <td>2</td>\n",
       "      <td>0</td>\n",
       "      <td>2</td>\n",
       "      <td>1</td>\n",
       "    </tr>\n",
       "  </tbody>\n",
       "</table>\n",
       "</div>"
      ],
      "text/plain": [
       "   age  sex  chest_pain_type  resting_blood_pressure  cholesterol  \\\n",
       "0   63    1                3                     145          233   \n",
       "1   37    1                2                     130          250   \n",
       "2   41    0                1                     130          204   \n",
       "3   56    1                1                     120          236   \n",
       "4   57    0                0                     120          354   \n",
       "\n",
       "   fasting_blood_sugar  rest_ecg  max_heart_rate_achieved  \\\n",
       "0                    1         0                      150   \n",
       "1                    0         1                      187   \n",
       "2                    0         0                      172   \n",
       "3                    0         1                      178   \n",
       "4                    0         1                      163   \n",
       "\n",
       "   exercise_induced_angina  st_depression  st_slope  nu_major_vessels  \\\n",
       "0                        0            2.3         0                 0   \n",
       "1                        0            3.5         0                 0   \n",
       "2                        0            1.4         2                 0   \n",
       "3                        0            0.8         2                 0   \n",
       "4                        1            0.6         2                 0   \n",
       "\n",
       "   thalassemia  target  \n",
       "0            1       1  \n",
       "1            2       1  \n",
       "2            2       1  \n",
       "3            2       1  \n",
       "4            2       1  "
      ]
     },
     "execution_count": 4,
     "metadata": {},
     "output_type": "execute_result"
    }
   ],
   "source": [
    "#Some original columns renamed\n",
    "df.columns = ['age', 'sex', 'chest_pain_type', 'resting_blood_pressure', 'cholesterol', 'fasting_blood_sugar', 'rest_ecg', 'max_heart_rate_achieved',\n",
    "'exercise_induced_angina', 'st_depression', 'st_slope', 'nu_major_vessels', 'thalassemia', 'target']\n",
    "      \n",
    "df.head()"
   ]
  },
  {
   "cell_type": "code",
   "execution_count": 5,
   "id": "7b8e2d1b",
   "metadata": {},
   "outputs": [
    {
     "name": "stdout",
     "output_type": "stream",
     "text": [
      "<class 'pandas.core.frame.DataFrame'>\n",
      "RangeIndex: 303 entries, 0 to 302\n",
      "Data columns (total 14 columns):\n",
      " #   Column                   Non-Null Count  Dtype  \n",
      "---  ------                   --------------  -----  \n",
      " 0   age                      303 non-null    int64  \n",
      " 1   sex                      303 non-null    int64  \n",
      " 2   chest_pain_type          303 non-null    int64  \n",
      " 3   resting_blood_pressure   303 non-null    int64  \n",
      " 4   cholesterol              303 non-null    int64  \n",
      " 5   fasting_blood_sugar      303 non-null    int64  \n",
      " 6   rest_ecg                 303 non-null    int64  \n",
      " 7   max_heart_rate_achieved  303 non-null    int64  \n",
      " 8   exercise_induced_angina  303 non-null    int64  \n",
      " 9   st_depression            303 non-null    float64\n",
      " 10  st_slope                 303 non-null    int64  \n",
      " 11  nu_major_vessels         303 non-null    int64  \n",
      " 12  thalassemia              303 non-null    int64  \n",
      " 13  target                   303 non-null    int64  \n",
      "dtypes: float64(1), int64(13)\n",
      "memory usage: 33.3 KB\n"
     ]
    }
   ],
   "source": [
    "df.info()"
   ]
  },
  {
   "cell_type": "code",
   "execution_count": 6,
   "id": "56a07b1a",
   "metadata": {},
   "outputs": [
    {
     "data": {
      "text/html": [
       "<div>\n",
       "<style scoped>\n",
       "    .dataframe tbody tr th:only-of-type {\n",
       "        vertical-align: middle;\n",
       "    }\n",
       "\n",
       "    .dataframe tbody tr th {\n",
       "        vertical-align: top;\n",
       "    }\n",
       "\n",
       "    .dataframe thead th {\n",
       "        text-align: right;\n",
       "    }\n",
       "</style>\n",
       "<table border=\"1\" class=\"dataframe\">\n",
       "  <thead>\n",
       "    <tr style=\"text-align: right;\">\n",
       "      <th></th>\n",
       "      <th>age</th>\n",
       "      <th>sex</th>\n",
       "      <th>chest_pain_type</th>\n",
       "      <th>resting_blood_pressure</th>\n",
       "      <th>cholesterol</th>\n",
       "      <th>fasting_blood_sugar</th>\n",
       "      <th>rest_ecg</th>\n",
       "      <th>max_heart_rate_achieved</th>\n",
       "      <th>exercise_induced_angina</th>\n",
       "      <th>st_depression</th>\n",
       "      <th>st_slope</th>\n",
       "      <th>nu_major_vessels</th>\n",
       "      <th>thalassemia</th>\n",
       "      <th>target</th>\n",
       "    </tr>\n",
       "  </thead>\n",
       "  <tbody>\n",
       "    <tr>\n",
       "      <th>count</th>\n",
       "      <td>303.000000</td>\n",
       "      <td>303.000000</td>\n",
       "      <td>303.000000</td>\n",
       "      <td>303.000000</td>\n",
       "      <td>303.000000</td>\n",
       "      <td>303.000000</td>\n",
       "      <td>303.000000</td>\n",
       "      <td>303.000000</td>\n",
       "      <td>303.000000</td>\n",
       "      <td>303.000000</td>\n",
       "      <td>303.000000</td>\n",
       "      <td>303.000000</td>\n",
       "      <td>303.000000</td>\n",
       "      <td>303.000000</td>\n",
       "    </tr>\n",
       "    <tr>\n",
       "      <th>mean</th>\n",
       "      <td>54.366337</td>\n",
       "      <td>0.683168</td>\n",
       "      <td>0.966997</td>\n",
       "      <td>131.623762</td>\n",
       "      <td>246.264026</td>\n",
       "      <td>0.148515</td>\n",
       "      <td>0.528053</td>\n",
       "      <td>149.646865</td>\n",
       "      <td>0.326733</td>\n",
       "      <td>1.039604</td>\n",
       "      <td>1.399340</td>\n",
       "      <td>0.729373</td>\n",
       "      <td>2.313531</td>\n",
       "      <td>0.544554</td>\n",
       "    </tr>\n",
       "    <tr>\n",
       "      <th>std</th>\n",
       "      <td>9.082101</td>\n",
       "      <td>0.466011</td>\n",
       "      <td>1.032052</td>\n",
       "      <td>17.538143</td>\n",
       "      <td>51.830751</td>\n",
       "      <td>0.356198</td>\n",
       "      <td>0.525860</td>\n",
       "      <td>22.905161</td>\n",
       "      <td>0.469794</td>\n",
       "      <td>1.161075</td>\n",
       "      <td>0.616226</td>\n",
       "      <td>1.022606</td>\n",
       "      <td>0.612277</td>\n",
       "      <td>0.498835</td>\n",
       "    </tr>\n",
       "    <tr>\n",
       "      <th>min</th>\n",
       "      <td>29.000000</td>\n",
       "      <td>0.000000</td>\n",
       "      <td>0.000000</td>\n",
       "      <td>94.000000</td>\n",
       "      <td>126.000000</td>\n",
       "      <td>0.000000</td>\n",
       "      <td>0.000000</td>\n",
       "      <td>71.000000</td>\n",
       "      <td>0.000000</td>\n",
       "      <td>0.000000</td>\n",
       "      <td>0.000000</td>\n",
       "      <td>0.000000</td>\n",
       "      <td>0.000000</td>\n",
       "      <td>0.000000</td>\n",
       "    </tr>\n",
       "    <tr>\n",
       "      <th>25%</th>\n",
       "      <td>47.500000</td>\n",
       "      <td>0.000000</td>\n",
       "      <td>0.000000</td>\n",
       "      <td>120.000000</td>\n",
       "      <td>211.000000</td>\n",
       "      <td>0.000000</td>\n",
       "      <td>0.000000</td>\n",
       "      <td>133.500000</td>\n",
       "      <td>0.000000</td>\n",
       "      <td>0.000000</td>\n",
       "      <td>1.000000</td>\n",
       "      <td>0.000000</td>\n",
       "      <td>2.000000</td>\n",
       "      <td>0.000000</td>\n",
       "    </tr>\n",
       "    <tr>\n",
       "      <th>50%</th>\n",
       "      <td>55.000000</td>\n",
       "      <td>1.000000</td>\n",
       "      <td>1.000000</td>\n",
       "      <td>130.000000</td>\n",
       "      <td>240.000000</td>\n",
       "      <td>0.000000</td>\n",
       "      <td>1.000000</td>\n",
       "      <td>153.000000</td>\n",
       "      <td>0.000000</td>\n",
       "      <td>0.800000</td>\n",
       "      <td>1.000000</td>\n",
       "      <td>0.000000</td>\n",
       "      <td>2.000000</td>\n",
       "      <td>1.000000</td>\n",
       "    </tr>\n",
       "    <tr>\n",
       "      <th>75%</th>\n",
       "      <td>61.000000</td>\n",
       "      <td>1.000000</td>\n",
       "      <td>2.000000</td>\n",
       "      <td>140.000000</td>\n",
       "      <td>274.500000</td>\n",
       "      <td>0.000000</td>\n",
       "      <td>1.000000</td>\n",
       "      <td>166.000000</td>\n",
       "      <td>1.000000</td>\n",
       "      <td>1.600000</td>\n",
       "      <td>2.000000</td>\n",
       "      <td>1.000000</td>\n",
       "      <td>3.000000</td>\n",
       "      <td>1.000000</td>\n",
       "    </tr>\n",
       "    <tr>\n",
       "      <th>max</th>\n",
       "      <td>77.000000</td>\n",
       "      <td>1.000000</td>\n",
       "      <td>3.000000</td>\n",
       "      <td>200.000000</td>\n",
       "      <td>564.000000</td>\n",
       "      <td>1.000000</td>\n",
       "      <td>2.000000</td>\n",
       "      <td>202.000000</td>\n",
       "      <td>1.000000</td>\n",
       "      <td>6.200000</td>\n",
       "      <td>2.000000</td>\n",
       "      <td>4.000000</td>\n",
       "      <td>3.000000</td>\n",
       "      <td>1.000000</td>\n",
       "    </tr>\n",
       "  </tbody>\n",
       "</table>\n",
       "</div>"
      ],
      "text/plain": [
       "              age         sex  chest_pain_type  resting_blood_pressure  \\\n",
       "count  303.000000  303.000000       303.000000              303.000000   \n",
       "mean    54.366337    0.683168         0.966997              131.623762   \n",
       "std      9.082101    0.466011         1.032052               17.538143   \n",
       "min     29.000000    0.000000         0.000000               94.000000   \n",
       "25%     47.500000    0.000000         0.000000              120.000000   \n",
       "50%     55.000000    1.000000         1.000000              130.000000   \n",
       "75%     61.000000    1.000000         2.000000              140.000000   \n",
       "max     77.000000    1.000000         3.000000              200.000000   \n",
       "\n",
       "       cholesterol  fasting_blood_sugar    rest_ecg  max_heart_rate_achieved  \\\n",
       "count   303.000000           303.000000  303.000000               303.000000   \n",
       "mean    246.264026             0.148515    0.528053               149.646865   \n",
       "std      51.830751             0.356198    0.525860                22.905161   \n",
       "min     126.000000             0.000000    0.000000                71.000000   \n",
       "25%     211.000000             0.000000    0.000000               133.500000   \n",
       "50%     240.000000             0.000000    1.000000               153.000000   \n",
       "75%     274.500000             0.000000    1.000000               166.000000   \n",
       "max     564.000000             1.000000    2.000000               202.000000   \n",
       "\n",
       "       exercise_induced_angina  st_depression    st_slope  nu_major_vessels  \\\n",
       "count               303.000000     303.000000  303.000000        303.000000   \n",
       "mean                  0.326733       1.039604    1.399340          0.729373   \n",
       "std                   0.469794       1.161075    0.616226          1.022606   \n",
       "min                   0.000000       0.000000    0.000000          0.000000   \n",
       "25%                   0.000000       0.000000    1.000000          0.000000   \n",
       "50%                   0.000000       0.800000    1.000000          0.000000   \n",
       "75%                   1.000000       1.600000    2.000000          1.000000   \n",
       "max                   1.000000       6.200000    2.000000          4.000000   \n",
       "\n",
       "       thalassemia      target  \n",
       "count   303.000000  303.000000  \n",
       "mean      2.313531    0.544554  \n",
       "std       0.612277    0.498835  \n",
       "min       0.000000    0.000000  \n",
       "25%       2.000000    0.000000  \n",
       "50%       2.000000    1.000000  \n",
       "75%       3.000000    1.000000  \n",
       "max       3.000000    1.000000  "
      ]
     },
     "execution_count": 6,
     "metadata": {},
     "output_type": "execute_result"
    }
   ],
   "source": [
    "df.describe()"
   ]
  },
  {
   "cell_type": "code",
   "execution_count": 7,
   "id": "23aee989",
   "metadata": {},
   "outputs": [
    {
     "name": "stdout",
     "output_type": "stream",
     "text": [
      "age                        0\n",
      "sex                        0\n",
      "chest_pain_type            0\n",
      "resting_blood_pressure     0\n",
      "cholesterol                0\n",
      "fasting_blood_sugar        0\n",
      "rest_ecg                   0\n",
      "max_heart_rate_achieved    0\n",
      "exercise_induced_angina    0\n",
      "st_depression              0\n",
      "st_slope                   0\n",
      "nu_major_vessels           0\n",
      "thalassemia                0\n",
      "target                     0\n",
      "dtype: int64\n"
     ]
    },
    {
     "data": {
      "image/png": "[encoded data removed]",
      "text/plain": [
       "<Figure size 720x216 with 2 Axes>"
      ]
     },
     "metadata": {
      "needs_background": "light"
     },
     "output_type": "display_data"
    }
   ],
   "source": [
    "print(df.isnull().sum())\n",
    "\n",
    "plt.figure(figsize=(10,3))\n",
    "sns.heatmap(df.isnull(), cbar=True, cmap=\"Blues_r\");"
   ]
  },
  {
   "cell_type": "markdown",
   "id": "3fe96caf",
   "metadata": {},
   "source": [
    "# EXPLORATORY DATA ANALYSIS"
   ]
  },
  {
   "cell_type": "markdown",
   "id": "05123efd",
   "metadata": {},
   "source": [
    "# Univariate Analysis"
   ]
  },
  {
   "cell_type": "code",
   "execution_count": 8,
   "id": "fa04fa21",
   "metadata": {},
   "outputs": [
    {
     "data": {
      "image/png": "[encoded data removed]",
      "text/plain": [
       "<Figure size 432x288 with 1 Axes>"
      ]
     },
     "metadata": {
      "needs_background": "light"
     },
     "output_type": "display_data"
    }
   ],
   "source": [
    "sns.boxplot(x=df[\"thalassemia\"]);"
   ]
  },
  {
   "cell_type": "code",
   "execution_count": 9,
   "id": "7587837e",
   "metadata": {},
   "outputs": [
    {
     "data": {
      "image/png": "[encoded data removed]",
      "text/plain": [
       "<Figure size 432x288 with 1 Axes>"
      ]
     },
     "metadata": {
      "needs_background": "light"
     },
     "output_type": "display_data"
    }
   ],
   "source": [
    "sns.boxplot(x=df[\"cholesterol\"]);"
   ]
  },
  {
   "cell_type": "code",
   "execution_count": 10,
   "id": "31c8fde8",
   "metadata": {},
   "outputs": [
    {
     "data": {
      "image/png": "[encoded data removed]",
      "text/plain": [
       "<Figure size 432x288 with 1 Axes>"
      ]
     },
     "metadata": {
      "needs_background": "light"
     },
     "output_type": "display_data"
    }
   ],
   "source": [
    "sns.boxplot(x=df[\"resting_blood_pressure\"]);"
   ]
  },
  {
   "cell_type": "code",
   "execution_count": 11,
   "id": "f248f917",
   "metadata": {},
   "outputs": [
    {
     "data": {
      "image/png": "[encoded data removed]",
      "text/plain": [
       "<Figure size 432x288 with 1 Axes>"
      ]
     },
     "metadata": {
      "needs_background": "light"
     },
     "output_type": "display_data"
    }
   ],
   "source": [
    "sns.boxplot(x=df['max_heart_rate_achieved']);"
   ]
  },
  {
   "cell_type": "code",
   "execution_count": 12,
   "id": "83694721",
   "metadata": {},
   "outputs": [
    {
     "data": {
      "image/png": "[encoded data removed]",
      "text/plain": [
       "<Figure size 720x360 with 1 Axes>"
      ]
     },
     "metadata": {
      "needs_background": "light"
     },
     "output_type": "display_data"
    }
   ],
   "source": [
    "#Data visualisation\n",
    "#Age_bracket\n",
    "def age_bracket(age):\n",
    "    if age<=35:\n",
    "        return \"Youth(<=35)\"\n",
    "    elif age <=55:\n",
    "        return\"Adult(<=55)\"\n",
    "    elif age <=65:\n",
    "        return \"Old Adult(<=65)\"\n",
    "    else:\n",
    "        return \"Elderly (>65)\"\n",
    "   \n",
    "\n",
    "df['age_bracket']=df['age'].apply(age_bracket)\n",
    "\n",
    "#Investigating the age group of patients\n",
    "plt.figure(figsize=(10,5))\n",
    "sns.countplot(x='age_bracket', data=df)\n",
    "plt.xlabel('Age Group', fontsize=12)\n",
    "plt.ylabel('Count of Age Group', fontsize=12)\n",
    "plt.title('TOTAL NUMBER OF PATIENTS', fontsize=18);"
   ]
  },
  {
   "cell_type": "markdown",
   "id": "06fcad26",
   "metadata": {},
   "source": [
    "Patients are mostly adults"
   ]
  },
  {
   "cell_type": "code",
   "execution_count": 13,
   "id": "f5cd065c",
   "metadata": {},
   "outputs": [
    {
     "data": {
      "image/png": "[encoded data removed]",
      "text/plain": [
       "<Figure size 720x360 with 1 Axes>"
      ]
     },
     "metadata": {
      "needs_background": "light"
     },
     "output_type": "display_data"
    }
   ],
   "source": [
    "#Data visualisation\n",
    "#Sex\n",
    "def gender(sex):\n",
    "    if sex==1:\n",
    "        return \"Male\"\n",
    "    else:\n",
    "        return \"Female\"\n",
    "   \n",
    "\n",
    "df['gender']=df['sex'].apply(gender)\n",
    "\n",
    "#Investigating the gender of patients\n",
    "plt.figure(figsize=(10,5))\n",
    "sns.countplot(x='gender', data=df)\n",
    "plt.xlabel('Gender', fontsize=12)\n",
    "plt.ylabel('Count of Gender', fontsize=12)\n",
    "plt.title('GENDER OF PATIENTS', fontsize=18);"
   ]
  },
  {
   "cell_type": "markdown",
   "id": "0da2f188",
   "metadata": {},
   "source": [
    "Male gender make up for most of the patients in this hospital"
   ]
  },
  {
   "cell_type": "code",
   "execution_count": 14,
   "id": "fbfe73a6",
   "metadata": {},
   "outputs": [
    {
     "data": {
      "image/png": "[encoded data removed]",
      "text/plain": [
       "<Figure size 720x360 with 1 Axes>"
      ]
     },
     "metadata": {
      "needs_background": "light"
     },
     "output_type": "display_data"
    }
   ],
   "source": [
    "#Data visualisation\n",
    "#Chest pain type (chest pain type= 1: typical agina; 2: atypical agina; 3: non-agina pain; 4: asymptomatic) \n",
    "def chest_pain(cp):\n",
    "    if cp==1:\n",
    "        return \"typical angina\"\n",
    "    elif cp==2:\n",
    "        return\"atypical angina\"\n",
    "    elif cp==3:\n",
    "        return \"non-angina pain\"\n",
    "    else:\n",
    "        return \"asymptomatic\"\n",
    "   \n",
    "\n",
    "df['chest_pain']=df['chest_pain_type'].apply(chest_pain)\n",
    "\n",
    "#Investigating the chest pain type of patients\n",
    "plt.figure(figsize=(10,5))\n",
    "sns.countplot(x='chest_pain', data=df)\n",
    "plt.xlabel('Chest Pain', fontsize=12)\n",
    "plt.ylabel('Count of Chest Pain Type', fontsize=12)\n",
    "plt.title('TYPE OF CHEST PAIN IN PATIENTS', fontsize=18);"
   ]
  },
  {
   "cell_type": "markdown",
   "id": "1aae60b0",
   "metadata": {},
   "source": [
    "Majority of the patients are asymptomatics followed by patients with atypical angina."
   ]
  },
  {
   "cell_type": "code",
   "execution_count": 15,
   "id": "87dbb3f0",
   "metadata": {},
   "outputs": [
    {
     "name": "stdout",
     "output_type": "stream",
     "text": [
      "yes    165\n",
      "no     138\n",
      "Name: label, dtype: int64\n"
     ]
    },
    {
     "data": {
      "image/png": "[encoded data removed]",
      "text/plain": [
       "<Figure size 720x360 with 1 Axes>"
      ]
     },
     "metadata": {
      "needs_background": "light"
     },
     "output_type": "display_data"
    }
   ],
   "source": [
    "#Data visualisation\n",
    "#Target (Have disease or not (1=yes; 0=no)) \n",
    "def label(tg):\n",
    "    if tg==1:\n",
    "        return \"yes\"\n",
    "    else:\n",
    "        return \"no\"\n",
    "   \n",
    "df['label']=df['target'].apply(label)\n",
    "\n",
    "#To see the target count\n",
    "print(df['label'].value_counts())\n",
    "\n",
    "\n",
    "#Investigating the total number in each target category of patients\n",
    "plt.figure(figsize=(10,5))\n",
    "sns.countplot(x='label', data=df)\n",
    "plt.xlabel('Target', fontsize=12)\n",
    "plt.ylabel('Count of Target', fontsize=12)\n",
    "plt.title('TARGET OF  PATIENTS', fontsize=18);"
   ]
  },
  {
   "cell_type": "markdown",
   "id": "25958402",
   "metadata": {},
   "source": [
    "Majority of the patients have diseases because of the high \"yes\" taget value from the chart."
   ]
  },
  {
   "cell_type": "markdown",
   "id": "bef0cf2c",
   "metadata": {},
   "source": [
    "# Bivariate Analysis"
   ]
  },
  {
   "cell_type": "code",
   "execution_count": 16,
   "id": "1bce430c",
   "metadata": {},
   "outputs": [
    {
     "data": {
      "image/png": "[encoded data removed]",
      "text/plain": [
       "<Figure size 720x360 with 1 Axes>"
      ]
     },
     "metadata": {
      "needs_background": "light"
     },
     "output_type": "display_data"
    }
   ],
   "source": [
    "#Investigating the age group of patients. \n",
    "plt.figure(figsize=(10,5))\n",
    "sns.countplot(x='age_bracket', data=df, hue='label')\n",
    "plt.xlabel('Age Group', fontsize=12)\n",
    "plt.ylabel('Count of Age Group', fontsize=12)\n",
    "plt.title('TOTAL NUMBER OF PATIENTS', fontsize=18);"
   ]
  },
  {
   "cell_type": "markdown",
   "id": "ca6aae72",
   "metadata": {},
   "source": [
    "Here we compared the two variables which are the age bracket versus label. It is observed that majority of Old Adults less than or equal to 65 years have lesser heart problems compared to Adults of less that or equalt to 55 years of age. This result is surprising because it is expected that the older you the more prone you are to heart disease. "
   ]
  },
  {
   "cell_type": "code",
   "execution_count": 17,
   "id": "4534da36",
   "metadata": {},
   "outputs": [
    {
     "data": {
      "image/png": "[encoded data removed]",
      "text/plain": [
       "<Figure size 720x360 with 1 Axes>"
      ]
     },
     "metadata": {
      "needs_background": "light"
     },
     "output_type": "display_data"
    }
   ],
   "source": [
    "#Investigating the gender of patients. \n",
    "plt.figure(figsize=(10,5))\n",
    "sns.countplot(x='gender', data=df, hue='label')\n",
    "plt.xlabel('Gender', fontsize=12)\n",
    "plt.ylabel('Count of Gender', fontsize=12)\n",
    "plt.title('GENDER OF PATIENTS', fontsize=18);"
   ]
  },
  {
   "cell_type": "markdown",
   "id": "0e1a73e6",
   "metadata": {},
   "source": [
    "Although in proportion, male gender has the highest heart disease count, statistically, the female gender shows more susciptibility to heart issues."
   ]
  },
  {
   "cell_type": "code",
   "execution_count": 18,
   "id": "3f40791d",
   "metadata": {},
   "outputs": [
    {
     "data": {
      "image/png": "[encoded data removed]",
      "text/plain": [
       "<Figure size 720x360 with 1 Axes>"
      ]
     },
     "metadata": {
      "needs_background": "light"
     },
     "output_type": "display_data"
    }
   ],
   "source": [
    "#Investigating the chest pain type of patients\n",
    "plt.figure(figsize=(10,5))\n",
    "sns.countplot(x='chest_pain', data=df, hue='label')\n",
    "plt.xlabel('Chest Pain', fontsize=12)\n",
    "plt.ylabel('Count of Chest Pain Type', fontsize=12)\n",
    "plt.title('TYPE OF CHEST PAIN IN PATIENTS', fontsize=18);"
   ]
  },
  {
   "cell_type": "markdown",
   "id": "26dd1908",
   "metadata": {},
   "source": [
    "While a large number of the patients at Peterside hospital are showing signs and symptoms of heart disease, another majority of the patients have been diagnosed with atypical angina and typical angina. "
   ]
  },
  {
   "cell_type": "markdown",
   "id": "1acd72ef",
   "metadata": {},
   "source": [
    "# Multivariate  Analysis"
   ]
  },
  {
   "cell_type": "code",
   "execution_count": 19,
   "id": "3748e208",
   "metadata": {},
   "outputs": [
    {
     "data": {
      "image/png": "[encoded data removed]",
      "text/plain": [
       "<Figure size 1080x648 with 2 Axes>"
      ]
     },
     "metadata": {
      "needs_background": "light"
     },
     "output_type": "display_data"
    }
   ],
   "source": [
    "#Correlation analysis\n",
    "plt.figure(figsize=(15,9))\n",
    "\n",
    "hm = sns.heatmap(df.corr(), cbar=True, annot=True, fmt='.2f',\n",
    "                annot_kws={'size':10})"
   ]
  },
  {
   "cell_type": "markdown",
   "id": "356e490a",
   "metadata": {},
   "source": [
    "With the heatmap we were able to answer a key question \"Are there relationships between the target variable and the features of heart disease? Which of the variables/features has positive and which has negative relaship with the target?"
   ]
  },
  {
   "cell_type": "markdown",
   "id": "34b00e76",
   "metadata": {},
   "source": [
    "Age, sex, resting blood pressure, fasting blood sugar, depression and thalassmenia have a negative relashionship with the target. While features such as chest pain type, max. heart rate achieved, cholesterol, exsercise induced angina and st slope have positive relationships with the target. This is to say that any patients who shows sypmtoms of the positive features stands the risk of a future heart disease if they don't already have it. "
   ]
  },
  {
   "cell_type": "markdown",
   "id": "1a5b3807",
   "metadata": {},
   "source": [
    "# Future Engineering/Data Preprocessing"
   ]
  },
  {
   "cell_type": "code",
   "execution_count": 20,
   "id": "c61fe4ea",
   "metadata": {},
   "outputs": [],
   "source": [
    "df.head()\n",
    "\n",
    "df1 = df[['age', 'sex', 'chest_pain_type', 'resting_blood_pressure', 'cholesterol', 'fasting_blood_sugar', 'rest_ecg', 'max_heart_rate_achieved',\n",
    "'exercise_induced_angina', 'st_depression', 'st_slope', 'nu_major_vessels', 'thalassemia']]\n",
    "\n",
    "label = df[['target']]"
   ]
  },
  {
   "cell_type": "code",
   "execution_count": 21,
   "id": "de9d3601",
   "metadata": {},
   "outputs": [
    {
     "data": {
      "text/html": [
       "<div>\n",
       "<style scoped>\n",
       "    .dataframe tbody tr th:only-of-type {\n",
       "        vertical-align: middle;\n",
       "    }\n",
       "\n",
       "    .dataframe tbody tr th {\n",
       "        vertical-align: top;\n",
       "    }\n",
       "\n",
       "    .dataframe thead th {\n",
       "        text-align: right;\n",
       "    }\n",
       "</style>\n",
       "<table border=\"1\" class=\"dataframe\">\n",
       "  <thead>\n",
       "    <tr style=\"text-align: right;\">\n",
       "      <th></th>\n",
       "      <th>age</th>\n",
       "      <th>sex</th>\n",
       "      <th>chest_pain_type</th>\n",
       "      <th>fasting_blood_sugar</th>\n",
       "      <th>rest_ecg</th>\n",
       "      <th>exercise_induced_angina</th>\n",
       "      <th>st_depression</th>\n",
       "      <th>st_slope</th>\n",
       "      <th>nu_major_vessels</th>\n",
       "      <th>Scaled_RBP</th>\n",
       "      <th>Scaled_chol</th>\n",
       "      <th>Scaled_thal</th>\n",
       "      <th>Scaled_max_heart_rate</th>\n",
       "    </tr>\n",
       "  </thead>\n",
       "  <tbody>\n",
       "    <tr>\n",
       "      <th>0</th>\n",
       "      <td>63</td>\n",
       "      <td>1</td>\n",
       "      <td>3</td>\n",
       "      <td>1</td>\n",
       "      <td>0</td>\n",
       "      <td>0</td>\n",
       "      <td>2.3</td>\n",
       "      <td>0</td>\n",
       "      <td>0</td>\n",
       "      <td>0.481132</td>\n",
       "      <td>0.244292</td>\n",
       "      <td>0.333333</td>\n",
       "      <td>0.603053</td>\n",
       "    </tr>\n",
       "    <tr>\n",
       "      <th>1</th>\n",
       "      <td>37</td>\n",
       "      <td>1</td>\n",
       "      <td>2</td>\n",
       "      <td>0</td>\n",
       "      <td>1</td>\n",
       "      <td>0</td>\n",
       "      <td>3.5</td>\n",
       "      <td>0</td>\n",
       "      <td>0</td>\n",
       "      <td>0.339623</td>\n",
       "      <td>0.283105</td>\n",
       "      <td>0.666667</td>\n",
       "      <td>0.885496</td>\n",
       "    </tr>\n",
       "    <tr>\n",
       "      <th>2</th>\n",
       "      <td>41</td>\n",
       "      <td>0</td>\n",
       "      <td>1</td>\n",
       "      <td>0</td>\n",
       "      <td>0</td>\n",
       "      <td>0</td>\n",
       "      <td>1.4</td>\n",
       "      <td>2</td>\n",
       "      <td>0</td>\n",
       "      <td>0.339623</td>\n",
       "      <td>0.178082</td>\n",
       "      <td>0.666667</td>\n",
       "      <td>0.770992</td>\n",
       "    </tr>\n",
       "    <tr>\n",
       "      <th>3</th>\n",
       "      <td>56</td>\n",
       "      <td>1</td>\n",
       "      <td>1</td>\n",
       "      <td>0</td>\n",
       "      <td>1</td>\n",
       "      <td>0</td>\n",
       "      <td>0.8</td>\n",
       "      <td>2</td>\n",
       "      <td>0</td>\n",
       "      <td>0.245283</td>\n",
       "      <td>0.251142</td>\n",
       "      <td>0.666667</td>\n",
       "      <td>0.816794</td>\n",
       "    </tr>\n",
       "    <tr>\n",
       "      <th>4</th>\n",
       "      <td>57</td>\n",
       "      <td>0</td>\n",
       "      <td>0</td>\n",
       "      <td>0</td>\n",
       "      <td>1</td>\n",
       "      <td>1</td>\n",
       "      <td>0.6</td>\n",
       "      <td>2</td>\n",
       "      <td>0</td>\n",
       "      <td>0.245283</td>\n",
       "      <td>0.520548</td>\n",
       "      <td>0.666667</td>\n",
       "      <td>0.702290</td>\n",
       "    </tr>\n",
       "  </tbody>\n",
       "</table>\n",
       "</div>"
      ],
      "text/plain": [
       "   age  sex  chest_pain_type  fasting_blood_sugar  rest_ecg  \\\n",
       "0   63    1                3                    1         0   \n",
       "1   37    1                2                    0         1   \n",
       "2   41    0                1                    0         0   \n",
       "3   56    1                1                    0         1   \n",
       "4   57    0                0                    0         1   \n",
       "\n",
       "   exercise_induced_angina  st_depression  st_slope  nu_major_vessels  \\\n",
       "0                        0            2.3         0                 0   \n",
       "1                        0            3.5         0                 0   \n",
       "2                        0            1.4         2                 0   \n",
       "3                        0            0.8         2                 0   \n",
       "4                        1            0.6         2                 0   \n",
       "\n",
       "   Scaled_RBP  Scaled_chol  Scaled_thal  Scaled_max_heart_rate  \n",
       "0    0.481132     0.244292     0.333333               0.603053  \n",
       "1    0.339623     0.283105     0.666667               0.885496  \n",
       "2    0.339623     0.178082     0.666667               0.770992  \n",
       "3    0.245283     0.251142     0.666667               0.816794  \n",
       "4    0.245283     0.520548     0.666667               0.702290  "
      ]
     },
     "execution_count": 21,
     "metadata": {},
     "output_type": "execute_result"
    }
   ],
   "source": [
    "#Normalise the data\n",
    "scaler = MinMaxScaler()\n",
    "\n",
    "df1[\"Scaled_RBP\"] = scaler.fit_transform(df1['resting_blood_pressure'].values.reshape(-1, 1))\n",
    "df1[\"Scaled_chol\"] = scaler.fit_transform(df1[['cholesterol']].values.reshape(-1, 1))\n",
    "df1[\"Scaled_thal\"] = scaler.fit_transform(df1[['thalassemia']].values.reshape(-1, 1))\n",
    "df1[\"Scaled_max_heart_rate\"] = scaler.fit_transform(df1['max_heart_rate_achieved'].values.reshape(-1, 1))\n",
    "\n",
    "#Drop the unscaled colums that have been scaled\n",
    "df1.drop(['resting_blood_pressure', 'cholesterol', 'max_heart_rate_achieved', 'thalassemia'], axis=1, inplace=True)\n",
    "\n",
    "df1.head()"
   ]
  },
  {
   "cell_type": "code",
   "execution_count": null,
   "id": "3ce7e242",
   "metadata": {},
   "outputs": [],
   "source": []
  },
  {
   "cell_type": "markdown",
   "id": "0eaffd65",
   "metadata": {},
   "source": [
    "# Machine Learning"
   ]
  },
  {
   "cell_type": "code",
   "execution_count": 22,
   "id": "8eec108b",
   "metadata": {},
   "outputs": [],
   "source": [
    "X_train,X_test,y_train,y_test = train_test_split(df1, label, test_size=0.2, random_state=42)"
   ]
  },
  {
   "cell_type": "code",
   "execution_count": 23,
   "id": "d7527d42",
   "metadata": {},
   "outputs": [
    {
     "data": {
      "text/html": [
       "<div>\n",
       "<style scoped>\n",
       "    .dataframe tbody tr th:only-of-type {\n",
       "        vertical-align: middle;\n",
       "    }\n",
       "\n",
       "    .dataframe tbody tr th {\n",
       "        vertical-align: top;\n",
       "    }\n",
       "\n",
       "    .dataframe thead th {\n",
       "        text-align: right;\n",
       "    }\n",
       "</style>\n",
       "<table border=\"1\" class=\"dataframe\">\n",
       "  <thead>\n",
       "    <tr style=\"text-align: right;\">\n",
       "      <th></th>\n",
       "      <th>age</th>\n",
       "      <th>sex</th>\n",
       "      <th>chest_pain_type</th>\n",
       "      <th>fasting_blood_sugar</th>\n",
       "      <th>rest_ecg</th>\n",
       "      <th>exercise_induced_angina</th>\n",
       "      <th>st_depression</th>\n",
       "      <th>st_slope</th>\n",
       "      <th>nu_major_vessels</th>\n",
       "      <th>Scaled_RBP</th>\n",
       "      <th>Scaled_chol</th>\n",
       "      <th>Scaled_thal</th>\n",
       "      <th>Scaled_max_heart_rate</th>\n",
       "    </tr>\n",
       "  </thead>\n",
       "  <tbody>\n",
       "    <tr>\n",
       "      <th>132</th>\n",
       "      <td>42</td>\n",
       "      <td>1</td>\n",
       "      <td>1</td>\n",
       "      <td>0</td>\n",
       "      <td>1</td>\n",
       "      <td>0</td>\n",
       "      <td>0.0</td>\n",
       "      <td>2</td>\n",
       "      <td>0</td>\n",
       "      <td>0.245283</td>\n",
       "      <td>0.385845</td>\n",
       "      <td>0.666667</td>\n",
       "      <td>0.694656</td>\n",
       "    </tr>\n",
       "    <tr>\n",
       "      <th>202</th>\n",
       "      <td>58</td>\n",
       "      <td>1</td>\n",
       "      <td>0</td>\n",
       "      <td>0</td>\n",
       "      <td>0</td>\n",
       "      <td>1</td>\n",
       "      <td>0.8</td>\n",
       "      <td>2</td>\n",
       "      <td>0</td>\n",
       "      <td>0.528302</td>\n",
       "      <td>0.328767</td>\n",
       "      <td>1.000000</td>\n",
       "      <td>0.305344</td>\n",
       "    </tr>\n",
       "    <tr>\n",
       "      <th>196</th>\n",
       "      <td>46</td>\n",
       "      <td>1</td>\n",
       "      <td>2</td>\n",
       "      <td>0</td>\n",
       "      <td>1</td>\n",
       "      <td>0</td>\n",
       "      <td>3.6</td>\n",
       "      <td>1</td>\n",
       "      <td>0</td>\n",
       "      <td>0.528302</td>\n",
       "      <td>0.239726</td>\n",
       "      <td>0.666667</td>\n",
       "      <td>0.580153</td>\n",
       "    </tr>\n",
       "  </tbody>\n",
       "</table>\n",
       "</div>"
      ],
      "text/plain": [
       "     age  sex  chest_pain_type  fasting_blood_sugar  rest_ecg  \\\n",
       "132   42    1                1                    0         1   \n",
       "202   58    1                0                    0         0   \n",
       "196   46    1                2                    0         1   \n",
       "\n",
       "     exercise_induced_angina  st_depression  st_slope  nu_major_vessels  \\\n",
       "132                        0            0.0         2                 0   \n",
       "202                        1            0.8         2                 0   \n",
       "196                        0            3.6         1                 0   \n",
       "\n",
       "     Scaled_RBP  Scaled_chol  Scaled_thal  Scaled_max_heart_rate  \n",
       "132    0.245283     0.385845     0.666667               0.694656  \n",
       "202    0.528302     0.328767     1.000000               0.305344  \n",
       "196    0.528302     0.239726     0.666667               0.580153  "
      ]
     },
     "execution_count": 23,
     "metadata": {},
     "output_type": "execute_result"
    }
   ],
   "source": [
    "X_train.head(3)"
   ]
  },
  {
   "cell_type": "code",
   "execution_count": 24,
   "id": "38b6585c",
   "metadata": {},
   "outputs": [
    {
     "name": "stdout",
     "output_type": "stream",
     "text": [
      "Logistic Regression\n",
      "Accuracy: 0.8360655737704918\n",
      "Precision: 0.8666666666666667\n",
      "Recall: 0.8125\n",
      "F1-score: 0.8387096774193549\n",
      "AUC-ROC: 0.8372844827586207\n"
     ]
    }
   ],
   "source": [
    "#Model building\n",
    "\n",
    "#Logistic regression\n",
    "\n",
    "lr = LogisticRegression()\n",
    "\n",
    "lr.fit(X_train, y_train)\n",
    "\n",
    "ly_pred = lr.predict(X_test)\n",
    "\n",
    "print(\"Logistic Regression\")\n",
    "print(\"Accuracy:\", accuracy_score(y_test, ly_pred))\n",
    "print(\"Precision:\", precision_score(y_test, ly_pred))\n",
    "print(\"Recall:\", recall_score(y_test, ly_pred))\n",
    "print(\"F1-score:\", f1_score(y_test, ly_pred))\n",
    "print(\"AUC-ROC:\", roc_auc_score(y_test, ly_pred))"
   ]
  },
  {
   "cell_type": "code",
   "execution_count": 25,
   "id": "cbfcf051",
   "metadata": {},
   "outputs": [
    {
     "data": {
      "text/plain": [
       "array([0, 1, 1, 0, 1, 1, 1, 0, 0, 0, 1, 0, 1, 0, 1, 1, 1, 0, 0, 0, 1, 0,\n",
       "       0, 1, 1, 1, 1, 0, 0, 1, 0, 0, 0, 0, 1, 0, 1, 1, 1, 1, 0, 1, 1, 1,\n",
       "       1, 0, 1, 1, 0, 0, 0, 0, 1, 1, 0, 0, 0, 1, 0, 0, 0], dtype=int64)"
      ]
     },
     "execution_count": 25,
     "metadata": {},
     "output_type": "execute_result"
    }
   ],
   "source": [
    "ly_pred"
   ]
  },
  {
   "cell_type": "code",
   "execution_count": 26,
   "id": "30a19f84",
   "metadata": {},
   "outputs": [
    {
     "data": {
      "text/html": [
       "<div>\n",
       "<style scoped>\n",
       "    .dataframe tbody tr th:only-of-type {\n",
       "        vertical-align: middle;\n",
       "    }\n",
       "\n",
       "    .dataframe tbody tr th {\n",
       "        vertical-align: top;\n",
       "    }\n",
       "\n",
       "    .dataframe thead th {\n",
       "        text-align: right;\n",
       "    }\n",
       "</style>\n",
       "<table border=\"1\" class=\"dataframe\">\n",
       "  <thead>\n",
       "    <tr style=\"text-align: right;\">\n",
       "      <th></th>\n",
       "      <th>target</th>\n",
       "    </tr>\n",
       "  </thead>\n",
       "  <tbody>\n",
       "    <tr>\n",
       "      <th>179</th>\n",
       "      <td>0</td>\n",
       "    </tr>\n",
       "    <tr>\n",
       "      <th>228</th>\n",
       "      <td>0</td>\n",
       "    </tr>\n",
       "    <tr>\n",
       "      <th>111</th>\n",
       "      <td>1</td>\n",
       "    </tr>\n",
       "    <tr>\n",
       "      <th>246</th>\n",
       "      <td>0</td>\n",
       "    </tr>\n",
       "    <tr>\n",
       "      <th>60</th>\n",
       "      <td>1</td>\n",
       "    </tr>\n",
       "    <tr>\n",
       "      <th>9</th>\n",
       "      <td>1</td>\n",
       "    </tr>\n",
       "    <tr>\n",
       "      <th>119</th>\n",
       "      <td>1</td>\n",
       "    </tr>\n",
       "    <tr>\n",
       "      <th>223</th>\n",
       "      <td>0</td>\n",
       "    </tr>\n",
       "    <tr>\n",
       "      <th>268</th>\n",
       "      <td>0</td>\n",
       "    </tr>\n",
       "    <tr>\n",
       "      <th>33</th>\n",
       "      <td>1</td>\n",
       "    </tr>\n",
       "  </tbody>\n",
       "</table>\n",
       "</div>"
      ],
      "text/plain": [
       "     target\n",
       "179       0\n",
       "228       0\n",
       "111       1\n",
       "246       0\n",
       "60        1\n",
       "9         1\n",
       "119       1\n",
       "223       0\n",
       "268       0\n",
       "33        1"
      ]
     },
     "execution_count": 26,
     "metadata": {},
     "output_type": "execute_result"
    }
   ],
   "source": [
    "y_test.head(10)"
   ]
  },
  {
   "cell_type": "markdown",
   "id": "8242ed1c",
   "metadata": {},
   "source": [
    "NARATION: This classification model using linear regression algorithm shows that:\n",
    "- The model has correctly predicted the outcome for approximately 83.6% of the samples.\n",
    "- The model correctly identified around 86.7% of the positive samples out of all the predicted positive samples.\n",
    "- This recall value (0.8125) indicates that the model has captured approximately 81.25% of the actual positive samples.\n",
    "- From the results, the F1-score is 0.8387096774193549, indicating a reasonable balance between precision and recall.\n",
    "- An AUC-ROC value closer to 1 indicates better performance. In this case, the AUC-ROC is 0.8372844827586207, suggesting the model has good discriminatory power."
   ]
  },
  {
   "cell_type": "code",
   "execution_count": 27,
   "id": "e35142ef",
   "metadata": {},
   "outputs": [
    {
     "data": {
      "image/png": "[encoded data removed]",
      "text/plain": [
       "<Figure size 864x576 with 2 Axes>"
      ]
     },
     "metadata": {
      "needs_background": "light"
     },
     "output_type": "display_data"
    }
   ],
   "source": [
    "#Creating a confusion metrix. \n",
    "lcm = confusion_matrix(y_test, ly_pred)\n",
    "\n",
    "#Visualize the confsion matrix\n",
    "plt.figure(figsize=(12,8))\n",
    "sns.heatmap(lcm, annot=True, cmap=\"Blues\", fmt='g')\n",
    "plt.xlabel('Predicted', fontsize=12)\n",
    "plt.ylabel('Actual', fontsize=12)\n",
    "plt.title('CONFUSION MATRIX', fontsize=22)\n",
    "plt.show()"
   ]
  },
  {
   "cell_type": "markdown",
   "id": "6c7dd652",
   "metadata": {},
   "source": [
    "NARRATION: \n",
    "\n",
    "25 patients were accuratly diagnosed without heart disease. 6 patients were wrongly predicted not to have heart diseases. 4 other patients without heart problem have been wrongly diagnosed of hearst diseases. 26 more patients were accurately diagnosed with heart problems.  "
   ]
  },
  {
   "cell_type": "code",
   "execution_count": 28,
   "id": "5ae9a817",
   "metadata": {},
   "outputs": [
    {
     "name": "stdout",
     "output_type": "stream",
     "text": [
      "Logistic Regression\n",
      "Accuracy: 0.8360655737704918\n",
      "Precision: 0.84375\n",
      "Recall: 0.84375\n",
      "F1-score: 0.84375\n",
      "AUC-ROC: 0.8356681034482758\n"
     ]
    }
   ],
   "source": [
    "#Model building\n",
    "#Random Forest Classifier\n",
    "rfc = RandomForestClassifier()\n",
    "rfc.fit(X_train, y_train)\n",
    "rfy_pred = rfc.predict(X_test)\n",
    "\n",
    "print(\"Logistic Regression\")\n",
    "print(\"Accuracy:\", accuracy_score(y_test, rfy_pred))\n",
    "print(\"Precision:\", precision_score(y_test, rfy_pred))\n",
    "print(\"Recall:\", recall_score(y_test, rfy_pred))\n",
    "print(\"F1-score:\", f1_score(y_test, rfy_pred))\n",
    "print(\"AUC-ROC:\", roc_auc_score(y_test, rfy_pred))"
   ]
  },
  {
   "cell_type": "code",
   "execution_count": 29,
   "id": "f482a269",
   "metadata": {},
   "outputs": [
    {
     "data": {
      "image/png": "[encoded data removed]",
      "text/plain": [
       "<Figure size 864x576 with 2 Axes>"
      ]
     },
     "metadata": {
      "needs_background": "light"
     },
     "output_type": "display_data"
    }
   ],
   "source": [
    "#Creating a confusion metrix. \n",
    "rfc = confusion_matrix(y_test, rfy_pred)\n",
    "\n",
    "#Visualize the random forest classifier\n",
    "plt.figure(figsize=(12,8))\n",
    "sns.heatmap(rfc, annot=True, cmap=\"Blues\", fmt='g')\n",
    "plt.xlabel('Predicted', fontsize=12)\n",
    "plt.ylabel('Actual', fontsize=12)\n",
    "plt.title('CONFUSION MATRIX', fontsize=22)\n",
    "plt.show()"
   ]
  },
  {
   "cell_type": "markdown",
   "id": "b46364a9",
   "metadata": {},
   "source": [
    "NARRATION: \n",
    "\n",
    "24 patients were accuratly predicted not to have any heart disease. 5 patients were wrongly predicted not to have heart diseases while they for a fact have heart issues. 5 other patients without heart problem have been wrong confirmed of heart diseases. 27 more patients were accurately diagnosed with heart problems. This model performs better than the Logistic Regression Model."
   ]
  },
  {
   "cell_type": "code",
   "execution_count": 59,
   "id": "1d8a4afe",
   "metadata": {},
   "outputs": [
    {
     "name": "stdout",
     "output_type": "stream",
     "text": [
      "Logistic Regression\n",
      "Accuracy: 0.6557377049180327\n",
      "Precision: 0.6571428571428571\n",
      "Recall: 0.71875\n",
      "F1-score: 0.6865671641791045\n",
      "AUC-ROC: 0.6524784482758621\n"
     ]
    }
   ],
   "source": [
    "#Model building\n",
    "#Support Vector Machine\n",
    "svc = SVC()\n",
    "svc.fit(X_train, y_train)\n",
    "svy_pred = svc.predict(X_test)\n",
    "\n",
    "print(\"Logistic Regression\")\n",
    "print(\"Accuracy:\", accuracy_score(y_test, svy_pred))\n",
    "print(\"Precision:\", precision_score(y_test, svy_pred))\n",
    "print(\"Recall:\", recall_score(y_test, svy_pred))\n",
    "print(\"F1-score:\", f1_score(y_test, svy_pred))\n",
    "print(\"AUC-ROC:\", roc_auc_score(y_test, svy_pred))"
   ]
  },
  {
   "cell_type": "code",
   "execution_count": 60,
   "id": "c190388c",
   "metadata": {},
   "outputs": [
    {
     "data": {
      "image/png": "[encoded data removed]",
      "text/plain": [
       "<Figure size 864x576 with 2 Axes>"
      ]
     },
     "metadata": {
      "needs_background": "light"
     },
     "output_type": "display_data"
    }
   ],
   "source": [
    "#Creating a confusion metrix. \n",
    "svc = confusion_matrix(y_test, svy_pred)\n",
    "\n",
    "#Visualize the confsion matrix\n",
    "plt.figure(figsize=(12,8))\n",
    "sns.heatmap(svc, annot=True, cmap=\"Blues\", fmt='g')\n",
    "plt.xlabel('Predicted', fontsize=12)\n",
    "plt.ylabel('Actual', fontsize=12)\n",
    "plt.title('CONFUSION MATRIX', fontsize=22)\n",
    "plt.show()"
   ]
  },
  {
   "cell_type": "markdown",
   "id": "3dd06ec1",
   "metadata": {},
   "source": [
    "NARRATION: \n",
    "\n",
    "17 patients were accuratly predicted without heart disease. 9 patients were wrongly predicted not to have heart diseases but they have heart issues. 12 other patients without heart problem have been wrong confirmed with hearst diseases. 23 patients were accurately diagnosed with heart problems. This model performs worse than the Logistic Regression and Random Forest Model."
   ]
  },
  {
   "cell_type": "code",
   "execution_count": 30,
   "id": "0660bfa9",
   "metadata": {},
   "outputs": [],
   "source": [
    "#Running several models! \n",
    "\n",
    "classifiers = [\n",
    "    [DecisionTreeClassifier(), \"Decision Tree\"],\n",
    "    [KNeighborsClassifier(), \"K-Nearest Neighbors\"],\n",
    "    [SVC(), \"Support Vector Machine\"],\n",
    "    [LogisticRegression(), \"Logistic Regression\"],\n",
    "    [RandomForestClassifier(), \"Random Forest\"],\n",
    "    [GaussianNB(), \"Naive Bayes\"],\n",
    "    [GradientBoostingClassifier(),'Gradient Boosting Machine'],\n",
    "    [XGBClassifier(), \"XGBoost\"],\n",
    "    [SGDClassifier(), 'SGD Classifier']\n",
    "    ]"
   ]
  },
  {
   "cell_type": "code",
   "execution_count": 40,
   "id": "a935d775",
   "metadata": {},
   "outputs": [
    {
     "name": "stdout",
     "output_type": "stream",
     "text": [
      "\n",
      "\n",
      "\n",
      "\n",
      "\n",
      "\n",
      "\n",
      "\n"
     ]
    }
   ],
   "source": [
    "acc_list = {}\n",
    "precision_list = {}\n",
    "recall_list = {}\n",
    "roc_list = {}\n",
    "\n",
    "for classifier in classifiers:\n",
    "    model = classifier[0]\n",
    "    model.fit(X_train, y_train)\n",
    "    model_name = classifier[1]\n",
    "    \n",
    "    pred = model.predict(X_test)\n",
    "    \n",
    "    a_score = accuracy_score(y_test, pred)\n",
    "    p_score = precision_score(y_test, pred)\n",
    "    r_score = recall_score(y_test, pred)\n",
    "    roc_score = roc_auc_score(y_test, pred)\n",
    "    \n",
    "    acc_list[model_name] = ([str(round(a_score*100, 2)) + '%'])\n",
    "    precision_list[model_name] = ([str(round(p_score*100, 2)) + '%'])\n",
    "    recall_list[model_name] = ([str(round(r_score*100, 2)) + '%'])\n",
    "    roc_list[model_name] = ([str(round(roc_score*100, 2)) + '%'])\n",
    "    \n",
    "    if model_name != classifiers[-1][1]:\n",
    "        print('')"
   ]
  },
  {
   "cell_type": "code",
   "execution_count": 41,
   "id": "5cf08a80",
   "metadata": {},
   "outputs": [
    {
     "data": {
      "text/plain": [
       "{'Decision Tree': ['77.05%'],\n",
       " 'K-Nearest Neighbors': ['75.41%'],\n",
       " 'Support Vector Machine': ['65.57%'],\n",
       " 'Logistic Regression': ['83.61%'],\n",
       " 'Random Forest': ['83.61%'],\n",
       " 'Naive Bayes': ['86.89%'],\n",
       " 'Gradient Boosting Machine': ['77.05%'],\n",
       " 'XGBoost': ['83.61%'],\n",
       " 'SGD Classifier': ['80.33%']}"
      ]
     },
     "execution_count": 41,
     "metadata": {},
     "output_type": "execute_result"
    }
   ],
   "source": [
    "acc_list"
   ]
  },
  {
   "cell_type": "code",
   "execution_count": 42,
   "id": "68442936",
   "metadata": {},
   "outputs": [
    {
     "name": "stdout",
     "output_type": "stream",
     "text": [
      "Accuracy_Score\n"
     ]
    },
    {
     "data": {
      "text/html": [
       "<div>\n",
       "<style scoped>\n",
       "    .dataframe tbody tr th:only-of-type {\n",
       "        vertical-align: middle;\n",
       "    }\n",
       "\n",
       "    .dataframe tbody tr th {\n",
       "        vertical-align: top;\n",
       "    }\n",
       "\n",
       "    .dataframe thead th {\n",
       "        text-align: right;\n",
       "    }\n",
       "</style>\n",
       "<table border=\"1\" class=\"dataframe\">\n",
       "  <thead>\n",
       "    <tr style=\"text-align: right;\">\n",
       "      <th></th>\n",
       "      <th>Decision Tree</th>\n",
       "      <th>K-Nearest Neighbors</th>\n",
       "      <th>Support Vector Machine</th>\n",
       "      <th>Logistic Regression</th>\n",
       "      <th>Random Forest</th>\n",
       "      <th>Naive Bayes</th>\n",
       "      <th>Gradient Boosting Machine</th>\n",
       "      <th>XGBoost</th>\n",
       "      <th>SGD Classifier</th>\n",
       "    </tr>\n",
       "  </thead>\n",
       "  <tbody>\n",
       "    <tr>\n",
       "      <th>0</th>\n",
       "      <td>77.05%</td>\n",
       "      <td>75.41%</td>\n",
       "      <td>65.57%</td>\n",
       "      <td>83.61%</td>\n",
       "      <td>83.61%</td>\n",
       "      <td>86.89%</td>\n",
       "      <td>77.05%</td>\n",
       "      <td>83.61%</td>\n",
       "      <td>80.33%</td>\n",
       "    </tr>\n",
       "  </tbody>\n",
       "</table>\n",
       "</div>"
      ],
      "text/plain": [
       "  Decision Tree K-Nearest Neighbors Support Vector Machine  \\\n",
       "0        77.05%              75.41%                 65.57%   \n",
       "\n",
       "  Logistic Regression Random Forest Naive Bayes Gradient Boosting Machine  \\\n",
       "0              83.61%        83.61%      86.89%                    77.05%   \n",
       "\n",
       "  XGBoost SGD Classifier  \n",
       "0  83.61%         80.33%  "
      ]
     },
     "execution_count": 42,
     "metadata": {},
     "output_type": "execute_result"
    }
   ],
   "source": [
    "print('Accuracy_Score')\n",
    "sl = pd.DataFrame(acc_list)\n",
    "sl.head()"
   ]
  },
  {
   "cell_type": "code",
   "execution_count": 43,
   "id": "31ac588e",
   "metadata": {},
   "outputs": [
    {
     "name": "stdout",
     "output_type": "stream",
     "text": [
      "Precision_Score\n"
     ]
    },
    {
     "data": {
      "text/html": [
       "<div>\n",
       "<style scoped>\n",
       "    .dataframe tbody tr th:only-of-type {\n",
       "        vertical-align: middle;\n",
       "    }\n",
       "\n",
       "    .dataframe tbody tr th {\n",
       "        vertical-align: top;\n",
       "    }\n",
       "\n",
       "    .dataframe thead th {\n",
       "        text-align: right;\n",
       "    }\n",
       "</style>\n",
       "<table border=\"1\" class=\"dataframe\">\n",
       "  <thead>\n",
       "    <tr style=\"text-align: right;\">\n",
       "      <th></th>\n",
       "      <th>Decision Tree</th>\n",
       "      <th>K-Nearest Neighbors</th>\n",
       "      <th>Support Vector Machine</th>\n",
       "      <th>Logistic Regression</th>\n",
       "      <th>Random Forest</th>\n",
       "      <th>Naive Bayes</th>\n",
       "      <th>Gradient Boosting Machine</th>\n",
       "      <th>XGBoost</th>\n",
       "      <th>SGD Classifier</th>\n",
       "    </tr>\n",
       "  </thead>\n",
       "  <tbody>\n",
       "    <tr>\n",
       "      <th>0</th>\n",
       "      <td>84.62%</td>\n",
       "      <td>79.31%</td>\n",
       "      <td>65.71%</td>\n",
       "      <td>86.67%</td>\n",
       "      <td>84.38%</td>\n",
       "      <td>90.0%</td>\n",
       "      <td>80.0%</td>\n",
       "      <td>86.67%</td>\n",
       "      <td>88.46%</td>\n",
       "    </tr>\n",
       "  </tbody>\n",
       "</table>\n",
       "</div>"
      ],
      "text/plain": [
       "  Decision Tree K-Nearest Neighbors Support Vector Machine  \\\n",
       "0        84.62%              79.31%                 65.71%   \n",
       "\n",
       "  Logistic Regression Random Forest Naive Bayes Gradient Boosting Machine  \\\n",
       "0              86.67%        84.38%       90.0%                     80.0%   \n",
       "\n",
       "  XGBoost SGD Classifier  \n",
       "0  86.67%         88.46%  "
      ]
     },
     "execution_count": 43,
     "metadata": {},
     "output_type": "execute_result"
    }
   ],
   "source": [
    "print('Precision_Score')\n",
    "s2 = pd.DataFrame(precision_list)\n",
    "s2.head()"
   ]
  },
  {
   "cell_type": "code",
   "execution_count": 44,
   "id": "f5d406cd",
   "metadata": {},
   "outputs": [
    {
     "name": "stdout",
     "output_type": "stream",
     "text": [
      "Recall_Score\n"
     ]
    },
    {
     "data": {
      "text/html": [
       "<div>\n",
       "<style scoped>\n",
       "    .dataframe tbody tr th:only-of-type {\n",
       "        vertical-align: middle;\n",
       "    }\n",
       "\n",
       "    .dataframe tbody tr th {\n",
       "        vertical-align: top;\n",
       "    }\n",
       "\n",
       "    .dataframe thead th {\n",
       "        text-align: right;\n",
       "    }\n",
       "</style>\n",
       "<table border=\"1\" class=\"dataframe\">\n",
       "  <thead>\n",
       "    <tr style=\"text-align: right;\">\n",
       "      <th></th>\n",
       "      <th>Decision Tree</th>\n",
       "      <th>K-Nearest Neighbors</th>\n",
       "      <th>Support Vector Machine</th>\n",
       "      <th>Logistic Regression</th>\n",
       "      <th>Random Forest</th>\n",
       "      <th>Naive Bayes</th>\n",
       "      <th>Gradient Boosting Machine</th>\n",
       "      <th>XGBoost</th>\n",
       "      <th>SGD Classifier</th>\n",
       "    </tr>\n",
       "  </thead>\n",
       "  <tbody>\n",
       "    <tr>\n",
       "      <th>0</th>\n",
       "      <td>68.75%</td>\n",
       "      <td>71.88%</td>\n",
       "      <td>71.88%</td>\n",
       "      <td>81.25%</td>\n",
       "      <td>84.38%</td>\n",
       "      <td>84.38%</td>\n",
       "      <td>75.0%</td>\n",
       "      <td>81.25%</td>\n",
       "      <td>71.88%</td>\n",
       "    </tr>\n",
       "  </tbody>\n",
       "</table>\n",
       "</div>"
      ],
      "text/plain": [
       "  Decision Tree K-Nearest Neighbors Support Vector Machine  \\\n",
       "0        68.75%              71.88%                 71.88%   \n",
       "\n",
       "  Logistic Regression Random Forest Naive Bayes Gradient Boosting Machine  \\\n",
       "0              81.25%        84.38%      84.38%                     75.0%   \n",
       "\n",
       "  XGBoost SGD Classifier  \n",
       "0  81.25%         71.88%  "
      ]
     },
     "execution_count": 44,
     "metadata": {},
     "output_type": "execute_result"
    }
   ],
   "source": [
    "print('Recall_Score')\n",
    "s3 = pd.DataFrame(recall_list)\n",
    "s3.head()"
   ]
  },
  {
   "cell_type": "code",
   "execution_count": 58,
   "id": "b2421438",
   "metadata": {},
   "outputs": [
    {
     "name": "stdout",
     "output_type": "stream",
     "text": [
      "roc_Score\n"
     ]
    },
    {
     "data": {
      "text/html": [
       "<div>\n",
       "<style scoped>\n",
       "    .dataframe tbody tr th:only-of-type {\n",
       "        vertical-align: middle;\n",
       "    }\n",
       "\n",
       "    .dataframe tbody tr th {\n",
       "        vertical-align: top;\n",
       "    }\n",
       "\n",
       "    .dataframe thead th {\n",
       "        text-align: right;\n",
       "    }\n",
       "</style>\n",
       "<table border=\"1\" class=\"dataframe\">\n",
       "  <thead>\n",
       "    <tr style=\"text-align: right;\">\n",
       "      <th></th>\n",
       "      <th>Decision Tree</th>\n",
       "      <th>K-Nearest Neighbors</th>\n",
       "      <th>Support Vector Machine</th>\n",
       "      <th>Logistic Regression</th>\n",
       "      <th>Random Forest</th>\n",
       "      <th>Naive Bayes</th>\n",
       "      <th>Gradient Boosting Machine</th>\n",
       "      <th>XGBoost</th>\n",
       "      <th>SGD Classifier</th>\n",
       "    </tr>\n",
       "  </thead>\n",
       "  <tbody>\n",
       "    <tr>\n",
       "      <th>0</th>\n",
       "      <td>77.48%</td>\n",
       "      <td>75.59%</td>\n",
       "      <td>65.25%</td>\n",
       "      <td>83.73%</td>\n",
       "      <td>83.57%</td>\n",
       "      <td>87.02%</td>\n",
       "      <td>77.16%</td>\n",
       "      <td>83.73%</td>\n",
       "      <td>80.77%</td>\n",
       "    </tr>\n",
       "  </tbody>\n",
       "</table>\n",
       "</div>"
      ],
      "text/plain": [
       "  Decision Tree K-Nearest Neighbors Support Vector Machine  \\\n",
       "0        77.48%              75.59%                 65.25%   \n",
       "\n",
       "  Logistic Regression Random Forest Naive Bayes Gradient Boosting Machine  \\\n",
       "0              83.73%        83.57%      87.02%                    77.16%   \n",
       "\n",
       "  XGBoost SGD Classifier  \n",
       "0  83.73%         80.77%  "
      ]
     },
     "execution_count": 58,
     "metadata": {},
     "output_type": "execute_result"
    }
   ],
   "source": [
    "print('roc_Score')\n",
    "s4 = pd.DataFrame(roc_list)\n",
    "s4.head()"
   ]
  },
  {
   "cell_type": "markdown",
   "id": "ebca04ef",
   "metadata": {},
   "source": [
    "# Conclusion"
   ]
  },
  {
   "cell_type": "markdown",
   "id": "56315115",
   "metadata": {},
   "source": [
    "Haven gone through the process of exploratory data analysis/analitic and building robost models(8 models) for heart disease prediction, one models stood out as the best model for current and future predictions. This model is the Naive Bayes model with general predictions of over 84% (for accuracy, precision, recall score nd roc score) and a total average of 87%.\n",
    "\n",
    "The observations from this analsis show that patients with sings of chest pain type, maximum  heart rate achieved, cholesterol, exsercise induced angina and peak slope of exercise have potentials developing heart problems if they do not already have one. "
   ]
  }
 ],
 "metadata": {
  "kernelspec": {
   "display_name": "Python 3 (ipykernel)",
   "language": "python",
   "name": "python3"
  },
  "language_info": {
   "codemirror_mode": {
    "name": "ipython",
    "version": 3
   },
   "file_extension": ".py",
   "mimetype": "text/x-python",
   "name": "python",
   "nbconvert_exporter": "python",
   "pygments_lexer": "ipython3",
   "version": "3.9.7"
  }
 },
 "nbformat": 4,
 "nbformat_minor": 5
}
